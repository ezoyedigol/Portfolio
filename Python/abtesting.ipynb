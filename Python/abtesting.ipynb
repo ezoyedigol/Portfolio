{
 "cells": [
  {
   "cell_type": "markdown",
   "id": "aff272ff-2687-484c-b94a-73eee37012df",
   "metadata": {},
   "source": [
    "A/B TESTING PROJECT: \n",
    "\n",
    "Measuring the Effectiveness of a New Landing Page\n",
    "\n",
    "This project aims to evaluate whether a new landing page leads to a higher user conversion rate compared to the existing (control) page. Using a real-world dataset from a randomized controlled experiment, we perform the following steps:\n",
    "\n",
    "- Clean and prepare the data by removing inconsistent and duplicate entries\n",
    "- Calculate conversion rates for the control and treatment groups\n",
    "- Apply statistical hypothesis testing (Z-Test for proportions) to determine significance\n",
    "- Visualize the results for clearer interpretation\n",
    "\n",
    "The goal is to make a data-driven decision on whether implementing the new landing page would improve conversion performance."
   ]
  },
  {
   "cell_type": "markdown",
   "id": "057b3af2-d8c5-4a18-a569-53cf825cf0cf",
   "metadata": {},
   "source": [
    "STEP-1: DATA OVERVIEW"
   ]
  },
  {
   "cell_type": "code",
   "execution_count": 2,
   "id": "d868f0ac-2349-4976-bc6e-2cebe1c24774",
   "metadata": {},
   "outputs": [
    {
     "data": {
      "text/html": [
       "<div>\n",
       "<style scoped>\n",
       "    .dataframe tbody tr th:only-of-type {\n",
       "        vertical-align: middle;\n",
       "    }\n",
       "\n",
       "    .dataframe tbody tr th {\n",
       "        vertical-align: top;\n",
       "    }\n",
       "\n",
       "    .dataframe thead th {\n",
       "        text-align: right;\n",
       "    }\n",
       "</style>\n",
       "<table border=\"1\" class=\"dataframe\">\n",
       "  <thead>\n",
       "    <tr style=\"text-align: right;\">\n",
       "      <th></th>\n",
       "      <th>user_id</th>\n",
       "      <th>timestamp</th>\n",
       "      <th>group</th>\n",
       "      <th>landing_page</th>\n",
       "      <th>converted</th>\n",
       "    </tr>\n",
       "  </thead>\n",
       "  <tbody>\n",
       "    <tr>\n",
       "      <th>0</th>\n",
       "      <td>851104</td>\n",
       "      <td>2017-01-21 22:11:48.556739</td>\n",
       "      <td>control</td>\n",
       "      <td>old_page</td>\n",
       "      <td>0</td>\n",
       "    </tr>\n",
       "    <tr>\n",
       "      <th>1</th>\n",
       "      <td>804228</td>\n",
       "      <td>2017-01-12 08:01:45.159739</td>\n",
       "      <td>control</td>\n",
       "      <td>old_page</td>\n",
       "      <td>0</td>\n",
       "    </tr>\n",
       "    <tr>\n",
       "      <th>2</th>\n",
       "      <td>661590</td>\n",
       "      <td>2017-01-11 16:55:06.154213</td>\n",
       "      <td>treatment</td>\n",
       "      <td>new_page</td>\n",
       "      <td>0</td>\n",
       "    </tr>\n",
       "    <tr>\n",
       "      <th>3</th>\n",
       "      <td>853541</td>\n",
       "      <td>2017-01-08 18:28:03.143765</td>\n",
       "      <td>treatment</td>\n",
       "      <td>new_page</td>\n",
       "      <td>0</td>\n",
       "    </tr>\n",
       "    <tr>\n",
       "      <th>4</th>\n",
       "      <td>864975</td>\n",
       "      <td>2017-01-21 01:52:26.210827</td>\n",
       "      <td>control</td>\n",
       "      <td>old_page</td>\n",
       "      <td>1</td>\n",
       "    </tr>\n",
       "  </tbody>\n",
       "</table>\n",
       "</div>"
      ],
      "text/plain": [
       "   user_id                   timestamp      group landing_page  converted\n",
       "0   851104  2017-01-21 22:11:48.556739    control     old_page          0\n",
       "1   804228  2017-01-12 08:01:45.159739    control     old_page          0\n",
       "2   661590  2017-01-11 16:55:06.154213  treatment     new_page          0\n",
       "3   853541  2017-01-08 18:28:03.143765  treatment     new_page          0\n",
       "4   864975  2017-01-21 01:52:26.210827    control     old_page          1"
      ]
     },
     "execution_count": 2,
     "metadata": {},
     "output_type": "execute_result"
    }
   ],
   "source": [
    "# Import necessary libraries\n",
    "import pandas as pd\n",
    "\n",
    "# Read the dataset\n",
    "df = pd.read_csv(r\"C:\\Users\\ezoyd\\Downloads\\archive (1)\\ab_data.csv\")\n",
    "\n",
    "# Show the first 5 rows of the dataset\n",
    "df.head()"
   ]
  },
  {
   "cell_type": "code",
   "execution_count": 3,
   "id": "fd61097f-cbef-4fe6-ae10-5e24881defee",
   "metadata": {},
   "outputs": [
    {
     "name": "stdout",
     "output_type": "stream",
     "text": [
      "<class 'pandas.core.frame.DataFrame'>\n",
      "RangeIndex: 294478 entries, 0 to 294477\n",
      "Data columns (total 5 columns):\n",
      " #   Column        Non-Null Count   Dtype \n",
      "---  ------        --------------   ----- \n",
      " 0   user_id       294478 non-null  int64 \n",
      " 1   timestamp     294478 non-null  object\n",
      " 2   group         294478 non-null  object\n",
      " 3   landing_page  294478 non-null  object\n",
      " 4   converted     294478 non-null  int64 \n",
      "dtypes: int64(2), object(3)\n",
      "memory usage: 11.2+ MB\n"
     ]
    }
   ],
   "source": [
    "# Check dataset info\n",
    "df.info()"
   ]
  },
  {
   "cell_type": "code",
   "execution_count": 4,
   "id": "4242ff67-4536-4576-b006-48b94ffad986",
   "metadata": {},
   "outputs": [
    {
     "data": {
      "text/plain": [
       "0"
      ]
     },
     "execution_count": 4,
     "metadata": {},
     "output_type": "execute_result"
    }
   ],
   "source": [
    "# Check for duplicates\n",
    "df.duplicated().sum()"
   ]
  },
  {
   "cell_type": "code",
   "execution_count": 5,
   "id": "acb9bfc6-6d96-4b9b-8e10-3893bbd4661b",
   "metadata": {},
   "outputs": [
    {
     "data": {
      "text/plain": [
       "user_id         0\n",
       "timestamp       0\n",
       "group           0\n",
       "landing_page    0\n",
       "converted       0\n",
       "dtype: int64"
      ]
     },
     "execution_count": 5,
     "metadata": {},
     "output_type": "execute_result"
    }
   ],
   "source": [
    "# Check for missing values\n",
    "df.isnull().sum()"
   ]
  },
  {
   "cell_type": "markdown",
   "id": "a8a12abc-1bc6-417b-bf05-2c2e4e739578",
   "metadata": {},
   "source": [
    "- The dataset contains 294,478 rows and 5 columns.\n",
    "- There are no missing values in any column.\n",
    "- There are no duplicate rows.\n",
    "- Data types are appropriate: user IDs are integers, timestamps are strings, and group/page labels are objects (categorical).\n",
    "\n",
    "✅ The dataset is clean and ready for initial filtering and analysis."
   ]
  },
  {
   "cell_type": "markdown",
   "id": "d9719387-01c4-45d4-afc5-cb7da9d3f8c1",
   "metadata": {},
   "source": [
    "STEP-2 : DATA CLEANING"
   ]
  },
  {
   "cell_type": "code",
   "execution_count": 6,
   "id": "558474f7-e842-4cd0-a2d4-f98f0dc526d4",
   "metadata": {},
   "outputs": [
    {
     "data": {
      "text/plain": [
       "1928"
      ]
     },
     "execution_count": 6,
     "metadata": {},
     "output_type": "execute_result"
    }
   ],
   "source": [
    "# Check if 'group' and 'landing_page' are consistent\n",
    "df.query(\"group == 'treatment' and landing_page != 'new_page'\").shape[0]\n",
    "df.query(\"group == 'control' and landing_page != 'old_page'\").shape[0]"
   ]
  },
  {
   "cell_type": "code",
   "execution_count": 7,
   "id": "0511ce77-74b3-4f83-825c-67345e59bcd5",
   "metadata": {},
   "outputs": [],
   "source": [
    "# Remove inconsistent rows\n",
    "df_clean = df[(df['group'] == 'treatment') & (df['landing_page'] == 'new_page') |\n",
    "              (df['group'] == 'control') & (df['landing_page'] == 'old_page')]"
   ]
  },
  {
   "cell_type": "code",
   "execution_count": 8,
   "id": "c6d31185-deeb-4c03-ad78-3ab3af3aa4a5",
   "metadata": {},
   "outputs": [],
   "source": [
    "# Drop duplicate user_ids\n",
    "df_clean = df_clean.drop_duplicates(subset='user_id')"
   ]
  },
  {
   "cell_type": "code",
   "execution_count": 9,
   "id": "fbc662b4-ccdb-4947-a611-98a9cd7dfe31",
   "metadata": {},
   "outputs": [
    {
     "name": "stdout",
     "output_type": "stream",
     "text": [
      "<class 'pandas.core.frame.DataFrame'>\n",
      "Index: 290584 entries, 0 to 294477\n",
      "Data columns (total 5 columns):\n",
      " #   Column        Non-Null Count   Dtype \n",
      "---  ------        --------------   ----- \n",
      " 0   user_id       290584 non-null  int64 \n",
      " 1   timestamp     290584 non-null  object\n",
      " 2   group         290584 non-null  object\n",
      " 3   landing_page  290584 non-null  object\n",
      " 4   converted     290584 non-null  int64 \n",
      "dtypes: int64(2), object(3)\n",
      "memory usage: 13.3+ MB\n"
     ]
    }
   ],
   "source": [
    "# Final check\n",
    "df_clean.info()"
   ]
  },
  {
   "cell_type": "markdown",
   "id": "959087d1-f5c5-4f16-90d3-06c7dec8e01b",
   "metadata": {},
   "source": [
    "- 1,928 inconsistent rows were found where the group assignment did not match the landing page (e.g., treatment group seeing the old page). These rows were removed.\n",
    "- Duplicate user IDs were dropped to ensure each user appears only once.\n",
    "- The cleaned dataset now contains 290,584 unique and consistent observations.\n",
    "\n",
    "✅ The dataset is now ready for accurate conversion analysis and A/B testing."
   ]
  },
  {
   "cell_type": "markdown",
   "id": "01e56950-2ad1-4a4e-88a3-1a4777fc540f",
   "metadata": {},
   "source": [
    "STEP-3: CONVERSION ANALYSIS"
   ]
  },
  {
   "cell_type": "code",
   "execution_count": 10,
   "id": "cbd38b6c-a1f2-4fb5-a9d3-e4460ec3d2fe",
   "metadata": {},
   "outputs": [
    {
     "data": {
      "text/plain": [
       "group\n",
       "control      0.120386\n",
       "treatment    0.118808\n",
       "Name: converted, dtype: float64"
      ]
     },
     "execution_count": 10,
     "metadata": {},
     "output_type": "execute_result"
    }
   ],
   "source": [
    "# Conversion rate by group\n",
    "conversion_rates = df_clean.groupby('group')['converted'].mean()\n",
    "conversion_rates"
   ]
  },
  {
   "cell_type": "code",
   "execution_count": 11,
   "id": "99ac0b18-0d5f-4181-b3d4-ed65409ffc28",
   "metadata": {},
   "outputs": [
    {
     "data": {
      "text/plain": [
       "group\n",
       "control      145274\n",
       "treatment    145310\n",
       "dtype: int64"
      ]
     },
     "execution_count": 11,
     "metadata": {},
     "output_type": "execute_result"
    }
   ],
   "source": [
    "# Count by group\n",
    "df_clean.groupby('group').size()"
   ]
  },
  {
   "cell_type": "markdown",
   "id": "06c8b57b-04d3-46e9-b6ed-f258b8faf49a",
   "metadata": {},
   "source": [
    "- The control group has a conversion rate of 12.04%.\n",
    "- The treatment group has a slightly lower conversion rate of 11.88%.\n",
    "- The sample sizes are almost equal: 145,274 (control) and 145,310 (treatment).\n",
    "\n",
    "✅ Although the conversion rates are very close, we cannot determine statistical significance without further testing."
   ]
  },
  {
   "cell_type": "markdown",
   "id": "d948fcfc-f955-47b3-b51c-f7ae7318d090",
   "metadata": {},
   "source": [
    "STEP-4:  A/B TEST – PROPORTION Z-TEST"
   ]
  },
  {
   "cell_type": "code",
   "execution_count": 12,
   "id": "b7ed3b89-8df3-4ee8-a7dd-338f6d9f75d2",
   "metadata": {},
   "outputs": [],
   "source": [
    "from statsmodels.stats.proportion import proportions_ztest\n",
    "\n",
    "# Success counts\n",
    "success = df_clean.groupby('group')['converted'].sum()\n",
    "n_obs = df_clean.groupby('group')['converted'].count()"
   ]
  },
  {
   "cell_type": "code",
   "execution_count": 13,
   "id": "d28e2558-ab24-4777-95a1-a0d60764930c",
   "metadata": {},
   "outputs": [],
   "source": [
    "# Perform z-test\n",
    "z_stat, p_val = proportions_ztest(count=success, nobs=n_obs, alternative='two-sided')"
   ]
  },
  {
   "cell_type": "markdown",
   "id": "c306cbe9-ae14-46c7-806c-9a7705525e9b",
   "metadata": {},
   "source": [
    "z_stat, p_val"
   ]
  },
  {
   "cell_type": "code",
   "execution_count": 15,
   "id": "99a512ce-5a80-47da-ba81-a215dff6c849",
   "metadata": {},
   "outputs": [
    {
     "name": "stdout",
     "output_type": "stream",
     "text": [
      "Fail to reject the null hypothesis - no significant difference.\n"
     ]
    }
   ],
   "source": [
    "# Interpret the result\n",
    "if p_val < 0.05:\n",
    "    print(\"Reject the null hypothesis - significant difference.\")\n",
    "else:\n",
    "    print(\"Fail to reject the null hypothesis - no significant difference.\")"
   ]
  },
  {
   "cell_type": "markdown",
   "id": "206d7eba-fe2e-4f91-a95a-e756620ed476",
   "metadata": {},
   "source": [
    "- Z-statistic = 1.31\n",
    "- p-value = 0.1899\n",
    "- Since the p-value is greater than 0.05, we fail to reject the null hypothesis.\n",
    "\n",
    "✅ There is no statistically significant difference between the conversion rates of the control and treatment groups. The new landing page does not appear to perform better than the old one."
   ]
  },
  {
   "cell_type": "markdown",
   "id": "a99bb02d-e149-46cf-8f23-8b83c53eb594",
   "metadata": {},
   "source": [
    "STEP-5: DATA VISUALIZATION"
   ]
  },
  {
   "cell_type": "code",
   "execution_count": 16,
   "id": "ceff89f1-c87d-453c-bd67-aea1da6909bb",
   "metadata": {},
   "outputs": [
    {
     "data": {
      "image/png": "[encoded data removed]",
      "text/plain": [
       "<Figure size 640x480 with 1 Axes>"
      ]
     },
     "metadata": {},
     "output_type": "display_data"
    }
   ],
   "source": [
    "import seaborn as sns\n",
    "import matplotlib.pyplot as plt\n",
    "\n",
    "# Barplot for conversion rates\n",
    "sns.barplot(data=df_clean, x='group', y='converted')\n",
    "plt.title(\"Conversion Rate by Group\")\n",
    "plt.ylabel(\"Conversion Rate\")\n",
    "plt.show()"
   ]
  },
  {
   "cell_type": "markdown",
   "id": "2a1f2fc6-7047-4a70-a320-ba67c04d1042",
   "metadata": {},
   "source": [
    "- The bar chart shows the conversion rates for both the control and treatment groups.\n",
    "- Both bars are nearly the same height, indicating very similar conversion performance.\n",
    "- The small vertical lines on top of the bars represent confidence intervals, and they overlap, which visually supports the statistical test result:\n",
    "\n",
    "→ There is no significant difference between the groups.\n",
    "\n",
    "✅ The visualization confirms that the new page design does not outperform the old one in terms of conversion."
   ]
  },
  {
   "cell_type": "markdown",
   "id": "259a1e80-a7db-4a28-bccf-634f6e187bbb",
   "metadata": {},
   "source": [
    "CONCLUSION\n",
    "\n",
    "- After cleaning the dataset and conducting an A/B test using a two-sided Z-test, we found no statistically significant difference between the conversion rates of the control and treatment groups (p-value = 0.1899). Although the control group had a slightly higher conversion rate (12.04%) compared to the treatment group (11.88%), the difference is not large enough to support implementing the new landing page.\n",
    "\n",
    "- Based on the data and analysis, I recommend keeping the existing landing page, as the new version does not show a meaningful improvement in user conversions.\n",
    "\n"
   ]
  },
  {
   "cell_type": "markdown",
   "id": "aa54a6d0-6b39-41fe-8756-853da1b07289",
   "metadata": {},
   "source": [
    "📌 Project by: Ezo Yedigöl  \n",
    "🔗 [LinkedIn](https://www.linkedin.com/in/ezo-yedig%C3%B6l-aa7947202) | 📧 ezoydgll@gmail.com  \n",
    "📂 GitHub Repo: [View on GitHub](https://github.com/ezoyedigol/Portfolio/blob/2111625c36000f706cb533d9e32b1e2e9366dd5e/Python/)"
   ]
  }
 ],
 "metadata": {
  "kernelspec": {
   "display_name": "Python [conda env:base] *",
   "language": "python",
   "name": "conda-base-py"
  },
  "language_info": {
   "codemirror_mode": {
    "name": "ipython",
    "version": 3
   },
   "file_extension": ".py",
   "mimetype": "text/x-python",
   "name": "python",
   "nbconvert_exporter": "python",
   "pygments_lexer": "ipython3",
   "version": "3.12.7"
  }
 },
 "nbformat": 4,
 "nbformat_minor": 5
}
